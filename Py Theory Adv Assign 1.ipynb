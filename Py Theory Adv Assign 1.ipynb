{
 "cells": [
  {
   "cell_type": "markdown",
   "id": "fca8ebd0",
   "metadata": {},
   "source": [
    "## Q1. What is the purpose of Python&#39;s OOP?"
   ]
  },
  {
   "cell_type": "code",
   "execution_count": 1,
   "id": "647e3d7f",
   "metadata": {},
   "outputs": [],
   "source": [
    "# In Python, object-oriented Programming (OOPs) is a programming paradigm that uses objects and classes in \n",
    "# programming. It aims to implement real-world entities like inheritance, polymorphisms, encapsulation, etc."
   ]
  },
  {
   "cell_type": "markdown",
   "id": "eec54aa1",
   "metadata": {},
   "source": [
    "## Q2. Where does an inheritance search look for an attribute?"
   ]
  },
  {
   "cell_type": "code",
   "execution_count": 3,
   "id": "027f811e",
   "metadata": {},
   "outputs": [],
   "source": [
    "# In Python, inheritance happens when an object is qualified, and involves searching an attribute definition \n",
    "# tree (one or more namespaces). attr where object is an instance or class object,\n",
    "# Python searches the namespace tree at and above object , for the first attr it can find."
   ]
  },
  {
   "cell_type": "markdown",
   "id": "a8445568",
   "metadata": {},
   "source": [
    "## Q3. How do you distinguish between a class object and an instance object?"
   ]
  },
  {
   "cell_type": "code",
   "execution_count": 4,
   "id": "93dda2a2",
   "metadata": {},
   "outputs": [],
   "source": [
    "# In simple words, Instance refers to the copy of the object at a particular time whereas object refers\n",
    "# to the memory address of the class."
   ]
  },
  {
   "cell_type": "markdown",
   "id": "2d73d183",
   "metadata": {},
   "source": [
    "## Q4. What makes the first argument in a class’s method function special?"
   ]
  },
  {
   "cell_type": "code",
   "execution_count": 5,
   "id": "7ad05240",
   "metadata": {},
   "outputs": [],
   "source": [
    "# The first argument of every class method, including init, is always a reference to the current instance \n",
    "# of the class. By convention, this argument is always named self. In the init method,\n",
    "# self refers to the newly created object; in other class methods, it refers to the instance whose method was called"
   ]
  },
  {
   "cell_type": "markdown",
   "id": "0a3eafb8",
   "metadata": {},
   "source": [
    "## Q5. What is the purpose of the __init__ method?"
   ]
  },
  {
   "cell_type": "code",
   "execution_count": 6,
   "id": "6d88f4c8",
   "metadata": {},
   "outputs": [],
   "source": [
    "# The __init__ function is called every time an object is created from a class. \n",
    "# The __init__ method lets the class initialize the object's attributes and serves no other purpose. \n",
    "# It is only used within classes."
   ]
  },
  {
   "cell_type": "markdown",
   "id": "d78db637",
   "metadata": {},
   "source": [
    "## Q6. What is the process for creating a class instance?"
   ]
  },
  {
   "cell_type": "code",
   "execution_count": 7,
   "id": "5588d373",
   "metadata": {},
   "outputs": [],
   "source": [
    "# The new operator requires a single, postfix argument: a call to a constructor.\n",
    "# The name of the constructor provides the name of the class to instantiate. \n",
    "# The new operator returns a reference to the object it created."
   ]
  },
  {
   "cell_type": "markdown",
   "id": "07c8f2e5",
   "metadata": {},
   "source": [
    "## Q7. What is the process for creating a class?"
   ]
  },
  {
   "cell_type": "code",
   "execution_count": 8,
   "id": "dcc54c05",
   "metadata": {},
   "outputs": [],
   "source": [
    "# Create a Class. To create a class, use the keyword class : \n",
    "# Create Object. Now we can use the class named MyClass to create objects: \n",
    "# The self Parameter. \n",
    "# Modify Object Properties. \n",
    "# Delete Object Properties. \n",
    "# Delete Objects."
   ]
  },
  {
   "cell_type": "markdown",
   "id": "7e7fbce5",
   "metadata": {},
   "source": [
    "## Q8. How would you define the superclasses of a class?"
   ]
  },
  {
   "cell_type": "code",
   "execution_count": null,
   "id": "61a2f055",
   "metadata": {},
   "outputs": [],
   "source": [
    "# The class from which a class inherits is called the parent or superclass. \n",
    "# A class which inherits from a superclass is called a subclass, also called heir class or child class.\n",
    "# Superclasses are sometimes called ancestors as well."
   ]
  }
 ],
 "metadata": {
  "kernelspec": {
   "display_name": "Python 3 (ipykernel)",
   "language": "python",
   "name": "python3"
  },
  "language_info": {
   "codemirror_mode": {
    "name": "ipython",
    "version": 3
   },
   "file_extension": ".py",
   "mimetype": "text/x-python",
   "name": "python",
   "nbconvert_exporter": "python",
   "pygments_lexer": "ipython3",
   "version": "3.9.7"
  }
 },
 "nbformat": 4,
 "nbformat_minor": 5
}
